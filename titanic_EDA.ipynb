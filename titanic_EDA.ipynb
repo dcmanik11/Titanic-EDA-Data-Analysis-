{
  "cells": [
    {
      "cell_type": "markdown",
      "id": "ecdfdfe3",
      "metadata": {},
      "source": [
        "# TITANIC-EDA"
      ]
    },
    {
      "cell_type": "markdown",
      "id": "fd161222",
      "metadata": {},
      "source": [
        "Dataset https://raw.githubusercontent.com/mwaskom/seaborn-data/master/titanic.csv\n",
        "\n",
        "At this time, I will try to do Data Preprocessing first so that the data becomes clean and good to use. After the Data Preprocessing is done, Exploratory Data Analysis is carried out which will get useful insights, including:\n",
        "> - How many passengers are still alive?\n",
        "> - What gender is the most victimized?\n",
        "> - What age has survived the most?\n",
        "> - Is the passenger class aware of safety?"
      ]
    },
    {
      "cell_type": "markdown",
      "id": "5d49521b",
      "metadata": {},
      "source": [
        "## DESCRIPTION"
      ]
    },
    {
      "cell_type": "markdown",
      "id": "dff2bae8",
      "metadata": {},
      "source": [
        "> Input Variable\n",
        "- pclass\tTicket class\t1 = 1st, 2 = 2nd, 3 = 3rd\n",
        "- sex\tSex\t\n",
        "- Age\tAge in years\t\n",
        "- sibsp\t# of siblings / spouses aboard the Titanic\t\n",
        "- parch\t# of parents / children aboard the Titanic\t\n",
        "- ticket\tTicket number\t\n",
        "- fare\tPassenger fare\t\n",
        "- cabin\tCabin number\t\n",
        "\n",
        "> Output Variable\n",
        "- survival - Survival\t0 = No, 1 = Yes\n",
        "\n",
        "> Variable Notes\n",
        "\n",
        "> pclass: A proxy for socio-economic status (SES)\n",
        "- 1st = Upper\n",
        "- 2nd = Middle\n",
        "- 3rd = Lower\n",
        "\n",
        "> age: Age is fractional if less than 1. If the age is estimated, is it in the form of xx.5\n",
        "\n",
        "> sibsp: The dataset defines family relations in this way...\n",
        "- Sibling = brother, sister, stepbrother, stepsister\n",
        "- Spouse = husband, wife (mistresses and fiancés were ignored)\n",
        "\n",
        "> parch: The dataset defines family relations in this way...\n",
        "- Parent = mother, father\n",
        "- Child = daughter, son, stepdaughter, stepson\n",
        "- Some children travelled only with a nanny, therefore parch=0 for them."
      ]
    },
    {
      "cell_type": "markdown",
      "id": "ff2c081f",
      "metadata": {},
      "source": [
        "## IMPORT LIBRARY"
      ]
    },
    {
      "cell_type": "code",
      "execution_count": 1,
      "id": "839b12a9-d470-4819-a363-90a580d3b94e",
      "metadata": {
        "id": "839b12a9-d470-4819-a363-90a580d3b94e"
      },
      "outputs": [],
      "source": [
        "# import all library nya\n",
        "import pandas as pd\n",
        "import numpy as np\n",
        "import matplotlib.pyplot as plt\n",
        "import seaborn as sns\n",
        "import sklearn\n",
        "from sklearn.preprocessing import LabelEncoder\n",
        "import scipy.stats as stats\n",
        "import warnings \n",
        "warnings.filterwarnings(\"ignore\")\n",
        "sns.set_style('darkgrid')"
      ]
    },
    {
      "cell_type": "markdown",
      "id": "0b12ceda-c7c9-429d-98e2-5506e47e6da6",
      "metadata": {
        "id": "0b12ceda-c7c9-429d-98e2-5506e47e6da6"
      },
      "source": [
        "## OVERVIEW\n",
        "\n",
        "> Load dataset: https://raw.githubusercontent.com/mwaskom/seaborn-data/master/titanic.csv"
      ]
    },
    {
      "cell_type": "code",
      "execution_count": 2,
      "id": "c7cc88a5-7de4-48fe-9a2e-579f2f57dabb",
      "metadata": {
        "id": "c7cc88a5-7de4-48fe-9a2e-579f2f57dabb"
      },
      "outputs": [],
      "source": [
        "df = pd.read_csv('https://raw.githubusercontent.com/mwaskom/seaborn-data/master/titanic.csv')"
      ]
    },
    {
      "cell_type": "code",
      "execution_count": 3,
      "id": "2a460b5e-4b90-4144-a3b6-c12fb599d324",
      "metadata": {
        "colab": {
          "base_uri": "https://localhost:8080/"
        },
        "id": "2a460b5e-4b90-4144-a3b6-c12fb599d324",
        "outputId": "c885a468-a5fe-408f-d879-aa911e91c226"
      },
      "outputs": [
        {
          "data": {
            "text/plain": [
              "Index(['survived', 'pclass', 'sex', 'age', 'sibsp', 'parch', 'fare',\n",
              "       'embarked', 'class', 'who', 'adult_male', 'deck', 'embark_town',\n",
              "       'alive', 'alone'],\n",
              "      dtype='object')"
            ]
          },
          "execution_count": 3,
          "metadata": {},
          "output_type": "execute_result"
        }
      ],
      "source": [
        "# Check column names\n",
        "df.columns"
      ]
    },
    {
      "cell_type": "code",
      "execution_count": 4,
      "id": "c3d55f88-1b2e-4691-bec7-404ab31c31fb",
      "metadata": {
        "colab": {
          "base_uri": "https://localhost:8080/"
        },
        "id": "c3d55f88-1b2e-4691-bec7-404ab31c31fb",
        "outputId": "3144d8e4-7e49-4f9f-f81f-b87911561c43"
      },
      "outputs": [
        {
          "name": "stdout",
          "output_type": "stream",
          "text": [
            "<class 'pandas.core.frame.DataFrame'>\n",
            "RangeIndex: 891 entries, 0 to 890\n",
            "Data columns (total 15 columns):\n",
            " #   Column       Non-Null Count  Dtype  \n",
            "---  ------       --------------  -----  \n",
            " 0   survived     891 non-null    int64  \n",
            " 1   pclass       891 non-null    int64  \n",
            " 2   sex          891 non-null    object \n",
            " 3   age          714 non-null    float64\n",
            " 4   sibsp        891 non-null    int64  \n",
            " 5   parch        891 non-null    int64  \n",
            " 6   fare         891 non-null    float64\n",
            " 7   embarked     889 non-null    object \n",
            " 8   class        891 non-null    object \n",
            " 9   who          891 non-null    object \n",
            " 10  adult_male   891 non-null    bool   \n",
            " 11  deck         203 non-null    object \n",
            " 12  embark_town  889 non-null    object \n",
            " 13  alive        891 non-null    object \n",
            " 14  alone        891 non-null    bool   \n",
            "dtypes: bool(2), float64(2), int64(4), object(7)\n",
            "memory usage: 92.4+ KB\n"
          ]
        }
      ],
      "source": [
        "# Information about the data set\n",
        "df.info()"
      ]
    },
    {
      "cell_type": "code",
      "execution_count": 5,
      "id": "d3709400-1774-414d-8e32-97e5c8e988e6",
      "metadata": {
        "colab": {
          "base_uri": "https://localhost:8080/",
          "height": 204
        },
        "id": "d3709400-1774-414d-8e32-97e5c8e988e6",
        "outputId": "6a6e72eb-f2a0-4814-98a4-e74c46205da7"
      },
      "outputs": [
        {
          "data": {
            "text/html": [
              "<div>\n",
              "<style scoped>\n",
              "    .dataframe tbody tr th:only-of-type {\n",
              "        vertical-align: middle;\n",
              "    }\n",
              "\n",
              "    .dataframe tbody tr th {\n",
              "        vertical-align: top;\n",
              "    }\n",
              "\n",
              "    .dataframe thead th {\n",
              "        text-align: right;\n",
              "    }\n",
              "</style>\n",
              "<table border=\"1\" class=\"dataframe\">\n",
              "  <thead>\n",
              "    <tr style=\"text-align: right;\">\n",
              "      <th></th>\n",
              "      <th>survived</th>\n",
              "      <th>pclass</th>\n",
              "      <th>sex</th>\n",
              "      <th>age</th>\n",
              "      <th>sibsp</th>\n",
              "      <th>parch</th>\n",
              "      <th>fare</th>\n",
              "      <th>embarked</th>\n",
              "      <th>class</th>\n",
              "      <th>who</th>\n",
              "      <th>adult_male</th>\n",
              "      <th>deck</th>\n",
              "      <th>embark_town</th>\n",
              "      <th>alive</th>\n",
              "      <th>alone</th>\n",
              "    </tr>\n",
              "  </thead>\n",
              "  <tbody>\n",
              "    <tr>\n",
              "      <th>0</th>\n",
              "      <td>0</td>\n",
              "      <td>3</td>\n",
              "      <td>male</td>\n",
              "      <td>22.0</td>\n",
              "      <td>1</td>\n",
              "      <td>0</td>\n",
              "      <td>7.2500</td>\n",
              "      <td>S</td>\n",
              "      <td>Third</td>\n",
              "      <td>man</td>\n",
              "      <td>True</td>\n",
              "      <td>NaN</td>\n",
              "      <td>Southampton</td>\n",
              "      <td>no</td>\n",
              "      <td>False</td>\n",
              "    </tr>\n",
              "    <tr>\n",
              "      <th>1</th>\n",
              "      <td>1</td>\n",
              "      <td>1</td>\n",
              "      <td>female</td>\n",
              "      <td>38.0</td>\n",
              "      <td>1</td>\n",
              "      <td>0</td>\n",
              "      <td>71.2833</td>\n",
              "      <td>C</td>\n",
              "      <td>First</td>\n",
              "      <td>woman</td>\n",
              "      <td>False</td>\n",
              "      <td>C</td>\n",
              "      <td>Cherbourg</td>\n",
              "      <td>yes</td>\n",
              "      <td>False</td>\n",
              "    </tr>\n",
              "    <tr>\n",
              "      <th>2</th>\n",
              "      <td>1</td>\n",
              "      <td>3</td>\n",
              "      <td>female</td>\n",
              "      <td>26.0</td>\n",
              "      <td>0</td>\n",
              "      <td>0</td>\n",
              "      <td>7.9250</td>\n",
              "      <td>S</td>\n",
              "      <td>Third</td>\n",
              "      <td>woman</td>\n",
              "      <td>False</td>\n",
              "      <td>NaN</td>\n",
              "      <td>Southampton</td>\n",
              "      <td>yes</td>\n",
              "      <td>True</td>\n",
              "    </tr>\n",
              "    <tr>\n",
              "      <th>3</th>\n",
              "      <td>1</td>\n",
              "      <td>1</td>\n",
              "      <td>female</td>\n",
              "      <td>35.0</td>\n",
              "      <td>1</td>\n",
              "      <td>0</td>\n",
              "      <td>53.1000</td>\n",
              "      <td>S</td>\n",
              "      <td>First</td>\n",
              "      <td>woman</td>\n",
              "      <td>False</td>\n",
              "      <td>C</td>\n",
              "      <td>Southampton</td>\n",
              "      <td>yes</td>\n",
              "      <td>False</td>\n",
              "    </tr>\n",
              "    <tr>\n",
              "      <th>4</th>\n",
              "      <td>0</td>\n",
              "      <td>3</td>\n",
              "      <td>male</td>\n",
              "      <td>35.0</td>\n",
              "      <td>0</td>\n",
              "      <td>0</td>\n",
              "      <td>8.0500</td>\n",
              "      <td>S</td>\n",
              "      <td>Third</td>\n",
              "      <td>man</td>\n",
              "      <td>True</td>\n",
              "      <td>NaN</td>\n",
              "      <td>Southampton</td>\n",
              "      <td>no</td>\n",
              "      <td>True</td>\n",
              "    </tr>\n",
              "  </tbody>\n",
              "</table>\n",
              "</div>"
            ],
            "text/plain": [
              "   survived  pclass     sex   age  sibsp  parch     fare embarked  class  \\\n",
              "0         0       3    male  22.0      1      0   7.2500        S  Third   \n",
              "1         1       1  female  38.0      1      0  71.2833        C  First   \n",
              "2         1       3  female  26.0      0      0   7.9250        S  Third   \n",
              "3         1       1  female  35.0      1      0  53.1000        S  First   \n",
              "4         0       3    male  35.0      0      0   8.0500        S  Third   \n",
              "\n",
              "     who  adult_male deck  embark_town alive  alone  \n",
              "0    man        True  NaN  Southampton    no  False  \n",
              "1  woman       False    C    Cherbourg   yes  False  \n",
              "2  woman       False  NaN  Southampton   yes   True  \n",
              "3  woman       False    C  Southampton   yes  False  \n",
              "4    man        True  NaN  Southampton    no   True  "
            ]
          },
          "execution_count": 5,
          "metadata": {},
          "output_type": "execute_result"
        }
      ],
      "source": [
        "# Check the first 5 rows of the data frame\n",
        "df.head()"
      ]
    },
    {
      "cell_type": "code",
      "execution_count": 6,
      "id": "42a176db-dafb-43aa-b1f3-6d26e87215db",
      "metadata": {
        "colab": {
          "base_uri": "https://localhost:8080/",
          "height": 204
        },
        "id": "42a176db-dafb-43aa-b1f3-6d26e87215db",
        "outputId": "c9f6522b-9cce-4c30-c9c3-55d61fcce5a0"
      },
      "outputs": [
        {
          "data": {
            "text/html": [
              "<div>\n",
              "<style scoped>\n",
              "    .dataframe tbody tr th:only-of-type {\n",
              "        vertical-align: middle;\n",
              "    }\n",
              "\n",
              "    .dataframe tbody tr th {\n",
              "        vertical-align: top;\n",
              "    }\n",
              "\n",
              "    .dataframe thead th {\n",
              "        text-align: right;\n",
              "    }\n",
              "</style>\n",
              "<table border=\"1\" class=\"dataframe\">\n",
              "  <thead>\n",
              "    <tr style=\"text-align: right;\">\n",
              "      <th></th>\n",
              "      <th>survived</th>\n",
              "      <th>pclass</th>\n",
              "      <th>sex</th>\n",
              "      <th>age</th>\n",
              "      <th>sibsp</th>\n",
              "      <th>parch</th>\n",
              "      <th>fare</th>\n",
              "      <th>embarked</th>\n",
              "      <th>class</th>\n",
              "      <th>who</th>\n",
              "      <th>adult_male</th>\n",
              "      <th>deck</th>\n",
              "      <th>embark_town</th>\n",
              "      <th>alive</th>\n",
              "      <th>alone</th>\n",
              "    </tr>\n",
              "  </thead>\n",
              "  <tbody>\n",
              "    <tr>\n",
              "      <th>886</th>\n",
              "      <td>0</td>\n",
              "      <td>2</td>\n",
              "      <td>male</td>\n",
              "      <td>27.0</td>\n",
              "      <td>0</td>\n",
              "      <td>0</td>\n",
              "      <td>13.00</td>\n",
              "      <td>S</td>\n",
              "      <td>Second</td>\n",
              "      <td>man</td>\n",
              "      <td>True</td>\n",
              "      <td>NaN</td>\n",
              "      <td>Southampton</td>\n",
              "      <td>no</td>\n",
              "      <td>True</td>\n",
              "    </tr>\n",
              "    <tr>\n",
              "      <th>887</th>\n",
              "      <td>1</td>\n",
              "      <td>1</td>\n",
              "      <td>female</td>\n",
              "      <td>19.0</td>\n",
              "      <td>0</td>\n",
              "      <td>0</td>\n",
              "      <td>30.00</td>\n",
              "      <td>S</td>\n",
              "      <td>First</td>\n",
              "      <td>woman</td>\n",
              "      <td>False</td>\n",
              "      <td>B</td>\n",
              "      <td>Southampton</td>\n",
              "      <td>yes</td>\n",
              "      <td>True</td>\n",
              "    </tr>\n",
              "    <tr>\n",
              "      <th>888</th>\n",
              "      <td>0</td>\n",
              "      <td>3</td>\n",
              "      <td>female</td>\n",
              "      <td>NaN</td>\n",
              "      <td>1</td>\n",
              "      <td>2</td>\n",
              "      <td>23.45</td>\n",
              "      <td>S</td>\n",
              "      <td>Third</td>\n",
              "      <td>woman</td>\n",
              "      <td>False</td>\n",
              "      <td>NaN</td>\n",
              "      <td>Southampton</td>\n",
              "      <td>no</td>\n",
              "      <td>False</td>\n",
              "    </tr>\n",
              "    <tr>\n",
              "      <th>889</th>\n",
              "      <td>1</td>\n",
              "      <td>1</td>\n",
              "      <td>male</td>\n",
              "      <td>26.0</td>\n",
              "      <td>0</td>\n",
              "      <td>0</td>\n",
              "      <td>30.00</td>\n",
              "      <td>C</td>\n",
              "      <td>First</td>\n",
              "      <td>man</td>\n",
              "      <td>True</td>\n",
              "      <td>C</td>\n",
              "      <td>Cherbourg</td>\n",
              "      <td>yes</td>\n",
              "      <td>True</td>\n",
              "    </tr>\n",
              "    <tr>\n",
              "      <th>890</th>\n",
              "      <td>0</td>\n",
              "      <td>3</td>\n",
              "      <td>male</td>\n",
              "      <td>32.0</td>\n",
              "      <td>0</td>\n",
              "      <td>0</td>\n",
              "      <td>7.75</td>\n",
              "      <td>Q</td>\n",
              "      <td>Third</td>\n",
              "      <td>man</td>\n",
              "      <td>True</td>\n",
              "      <td>NaN</td>\n",
              "      <td>Queenstown</td>\n",
              "      <td>no</td>\n",
              "      <td>True</td>\n",
              "    </tr>\n",
              "  </tbody>\n",
              "</table>\n",
              "</div>"
            ],
            "text/plain": [
              "     survived  pclass     sex   age  sibsp  parch   fare embarked   class  \\\n",
              "886         0       2    male  27.0      0      0  13.00        S  Second   \n",
              "887         1       1  female  19.0      0      0  30.00        S   First   \n",
              "888         0       3  female   NaN      1      2  23.45        S   Third   \n",
              "889         1       1    male  26.0      0      0  30.00        C   First   \n",
              "890         0       3    male  32.0      0      0   7.75        Q   Third   \n",
              "\n",
              "       who  adult_male deck  embark_town alive  alone  \n",
              "886    man        True  NaN  Southampton    no   True  \n",
              "887  woman       False    B  Southampton   yes   True  \n",
              "888  woman       False  NaN  Southampton    no  False  \n",
              "889    man        True    C    Cherbourg   yes   True  \n",
              "890    man        True  NaN   Queenstown    no   True  "
            ]
          },
          "execution_count": 6,
          "metadata": {},
          "output_type": "execute_result"
        }
      ],
      "source": [
        "# Check the last 5 rows of the data frame\n",
        "df.tail()"
      ]
    },
    {
      "cell_type": "code",
      "execution_count": 7,
      "id": "bf03dad8-abeb-482f-975d-940193555b78",
      "metadata": {
        "colab": {
          "base_uri": "https://localhost:8080/",
          "height": 514
        },
        "id": "bf03dad8-abeb-482f-975d-940193555b78",
        "outputId": "31573baf-734c-4bb8-a8a0-2db3997a1b21"
      },
      "outputs": [
        {
          "data": {
            "text/html": [
              "<div>\n",
              "<style scoped>\n",
              "    .dataframe tbody tr th:only-of-type {\n",
              "        vertical-align: middle;\n",
              "    }\n",
              "\n",
              "    .dataframe tbody tr th {\n",
              "        vertical-align: top;\n",
              "    }\n",
              "\n",
              "    .dataframe thead th {\n",
              "        text-align: right;\n",
              "    }\n",
              "</style>\n",
              "<table border=\"1\" class=\"dataframe\">\n",
              "  <thead>\n",
              "    <tr style=\"text-align: right;\">\n",
              "      <th></th>\n",
              "      <th>dataFeatures</th>\n",
              "      <th>dataType</th>\n",
              "      <th>null</th>\n",
              "      <th>nullPct</th>\n",
              "      <th>Nunique</th>\n",
              "      <th>uniqueSample</th>\n",
              "    </tr>\n",
              "  </thead>\n",
              "  <tbody>\n",
              "    <tr>\n",
              "      <th>0</th>\n",
              "      <td>survived</td>\n",
              "      <td>int64</td>\n",
              "      <td>0</td>\n",
              "      <td>0.0</td>\n",
              "      <td>2</td>\n",
              "      <td>[1, 0]</td>\n",
              "    </tr>\n",
              "    <tr>\n",
              "      <th>1</th>\n",
              "      <td>pclass</td>\n",
              "      <td>int64</td>\n",
              "      <td>0</td>\n",
              "      <td>0.0</td>\n",
              "      <td>3</td>\n",
              "      <td>[3, 2]</td>\n",
              "    </tr>\n",
              "    <tr>\n",
              "      <th>2</th>\n",
              "      <td>sex</td>\n",
              "      <td>object</td>\n",
              "      <td>0</td>\n",
              "      <td>0.0</td>\n",
              "      <td>2</td>\n",
              "      <td>[male, female]</td>\n",
              "    </tr>\n",
              "    <tr>\n",
              "      <th>3</th>\n",
              "      <td>age</td>\n",
              "      <td>float64</td>\n",
              "      <td>177</td>\n",
              "      <td>19.9</td>\n",
              "      <td>88</td>\n",
              "      <td>[0.83, 54.0]</td>\n",
              "    </tr>\n",
              "    <tr>\n",
              "      <th>4</th>\n",
              "      <td>sibsp</td>\n",
              "      <td>int64</td>\n",
              "      <td>0</td>\n",
              "      <td>0.0</td>\n",
              "      <td>7</td>\n",
              "      <td>[5, 0]</td>\n",
              "    </tr>\n",
              "    <tr>\n",
              "      <th>5</th>\n",
              "      <td>parch</td>\n",
              "      <td>int64</td>\n",
              "      <td>0</td>\n",
              "      <td>0.0</td>\n",
              "      <td>7</td>\n",
              "      <td>[4, 0]</td>\n",
              "    </tr>\n",
              "    <tr>\n",
              "      <th>6</th>\n",
              "      <td>fare</td>\n",
              "      <td>float64</td>\n",
              "      <td>0</td>\n",
              "      <td>0.0</td>\n",
              "      <td>248</td>\n",
              "      <td>[41.5792, 14.4583]</td>\n",
              "    </tr>\n",
              "    <tr>\n",
              "      <th>7</th>\n",
              "      <td>embarked</td>\n",
              "      <td>object</td>\n",
              "      <td>2</td>\n",
              "      <td>0.2</td>\n",
              "      <td>3</td>\n",
              "      <td>[nan, C]</td>\n",
              "    </tr>\n",
              "    <tr>\n",
              "      <th>8</th>\n",
              "      <td>class</td>\n",
              "      <td>object</td>\n",
              "      <td>0</td>\n",
              "      <td>0.0</td>\n",
              "      <td>3</td>\n",
              "      <td>[Second, First]</td>\n",
              "    </tr>\n",
              "    <tr>\n",
              "      <th>9</th>\n",
              "      <td>who</td>\n",
              "      <td>object</td>\n",
              "      <td>0</td>\n",
              "      <td>0.0</td>\n",
              "      <td>3</td>\n",
              "      <td>[child, man]</td>\n",
              "    </tr>\n",
              "    <tr>\n",
              "      <th>10</th>\n",
              "      <td>adult_male</td>\n",
              "      <td>bool</td>\n",
              "      <td>0</td>\n",
              "      <td>0.0</td>\n",
              "      <td>2</td>\n",
              "      <td>[True, False]</td>\n",
              "    </tr>\n",
              "    <tr>\n",
              "      <th>11</th>\n",
              "      <td>deck</td>\n",
              "      <td>object</td>\n",
              "      <td>688</td>\n",
              "      <td>77.2</td>\n",
              "      <td>7</td>\n",
              "      <td>[G, B]</td>\n",
              "    </tr>\n",
              "    <tr>\n",
              "      <th>12</th>\n",
              "      <td>embark_town</td>\n",
              "      <td>object</td>\n",
              "      <td>2</td>\n",
              "      <td>0.2</td>\n",
              "      <td>3</td>\n",
              "      <td>[Cherbourg, nan]</td>\n",
              "    </tr>\n",
              "    <tr>\n",
              "      <th>13</th>\n",
              "      <td>alive</td>\n",
              "      <td>object</td>\n",
              "      <td>0</td>\n",
              "      <td>0.0</td>\n",
              "      <td>2</td>\n",
              "      <td>[yes, no]</td>\n",
              "    </tr>\n",
              "    <tr>\n",
              "      <th>14</th>\n",
              "      <td>alone</td>\n",
              "      <td>bool</td>\n",
              "      <td>0</td>\n",
              "      <td>0.0</td>\n",
              "      <td>2</td>\n",
              "      <td>[False, True]</td>\n",
              "    </tr>\n",
              "  </tbody>\n",
              "</table>\n",
              "</div>"
            ],
            "text/plain": [
              "   dataFeatures dataType  null  nullPct  Nunique        uniqueSample\n",
              "0      survived    int64     0      0.0        2              [1, 0]\n",
              "1        pclass    int64     0      0.0        3              [3, 2]\n",
              "2           sex   object     0      0.0        2      [male, female]\n",
              "3           age  float64   177     19.9       88        [0.83, 54.0]\n",
              "4         sibsp    int64     0      0.0        7              [5, 0]\n",
              "5         parch    int64     0      0.0        7              [4, 0]\n",
              "6          fare  float64     0      0.0      248  [41.5792, 14.4583]\n",
              "7      embarked   object     2      0.2        3            [nan, C]\n",
              "8         class   object     0      0.0        3     [Second, First]\n",
              "9           who   object     0      0.0        3        [child, man]\n",
              "10   adult_male     bool     0      0.0        2       [True, False]\n",
              "11         deck   object   688     77.2        7              [G, B]\n",
              "12  embark_town   object     2      0.2        3    [Cherbourg, nan]\n",
              "13        alive   object     0      0.0        2           [yes, no]\n",
              "14        alone     bool     0      0.0        2       [False, True]"
            ]
          },
          "execution_count": 7,
          "metadata": {},
          "output_type": "execute_result"
        }
      ],
      "source": [
        "# summary dari setiap features pada dataset ini\n",
        "pd.DataFrame({'dataFeatures' : df.columns, 'dataType' : df.dtypes.values, \n",
        "              'null' : [df[i].isna().sum() for i in df.columns],\n",
        "              'nullPct' : [((df[i].isna().sum()/len(df[i]))*100).round(1) for i in df.columns],\n",
        "              'Nunique' : [df[i].nunique() for i in df.columns],\n",
        "              'uniqueSample' : [list(pd.Series(df[i].unique()).sample(2)) for i in df.columns]}).reset_index(drop = True)"
      ]
    },
    {
      "cell_type": "markdown",
      "id": "2f9e6865-4a69-409a-8a9f-7145a7cc16f6",
      "metadata": {
        "id": "2f9e6865-4a69-409a-8a9f-7145a7cc16f6"
      },
      "source": [
        "> There are **Null Values** on some features."
      ]
    },
    {
      "cell_type": "code",
      "execution_count": 8,
      "id": "43c1c5fe-4833-4b4f-a462-ae5382cea031",
      "metadata": {
        "colab": {
          "base_uri": "https://localhost:8080/"
        },
        "id": "43c1c5fe-4833-4b4f-a462-ae5382cea031",
        "outputId": "c6d86671-9573-4fba-ddf7-2b183dd8f45c"
      },
      "outputs": [
        {
          "data": {
            "text/plain": [
              "(891, 15)"
            ]
          },
          "execution_count": 8,
          "metadata": {},
          "output_type": "execute_result"
        }
      ],
      "source": [
        "# Data with Null values\n",
        "df.shape"
      ]
    },
    {
      "cell_type": "code",
      "execution_count": 9,
      "id": "a019734e-20cf-4843-bdfc-8aa254a8a526",
      "metadata": {
        "colab": {
          "base_uri": "https://localhost:8080/",
          "height": 235
        },
        "id": "a019734e-20cf-4843-bdfc-8aa254a8a526",
        "outputId": "a9a50900-e047-4e26-9bf9-74372c214d77"
      },
      "outputs": [
        {
          "data": {
            "text/html": [
              "<div>\n",
              "<style scoped>\n",
              "    .dataframe tbody tr th:only-of-type {\n",
              "        vertical-align: middle;\n",
              "    }\n",
              "\n",
              "    .dataframe tbody tr th {\n",
              "        vertical-align: top;\n",
              "    }\n",
              "\n",
              "    .dataframe thead th {\n",
              "        text-align: right;\n",
              "    }\n",
              "</style>\n",
              "<table border=\"1\" class=\"dataframe\">\n",
              "  <thead>\n",
              "    <tr style=\"text-align: right;\">\n",
              "      <th></th>\n",
              "      <th>count</th>\n",
              "      <th>mean</th>\n",
              "      <th>std</th>\n",
              "      <th>min</th>\n",
              "      <th>25%</th>\n",
              "      <th>50%</th>\n",
              "      <th>75%</th>\n",
              "      <th>max</th>\n",
              "    </tr>\n",
              "  </thead>\n",
              "  <tbody>\n",
              "    <tr>\n",
              "      <th>survived</th>\n",
              "      <td>891.0</td>\n",
              "      <td>0.383838</td>\n",
              "      <td>0.486592</td>\n",
              "      <td>0.00</td>\n",
              "      <td>0.0000</td>\n",
              "      <td>0.0000</td>\n",
              "      <td>1.0</td>\n",
              "      <td>1.0000</td>\n",
              "    </tr>\n",
              "    <tr>\n",
              "      <th>pclass</th>\n",
              "      <td>891.0</td>\n",
              "      <td>2.308642</td>\n",
              "      <td>0.836071</td>\n",
              "      <td>1.00</td>\n",
              "      <td>2.0000</td>\n",
              "      <td>3.0000</td>\n",
              "      <td>3.0</td>\n",
              "      <td>3.0000</td>\n",
              "    </tr>\n",
              "    <tr>\n",
              "      <th>age</th>\n",
              "      <td>714.0</td>\n",
              "      <td>29.699118</td>\n",
              "      <td>14.526497</td>\n",
              "      <td>0.42</td>\n",
              "      <td>20.1250</td>\n",
              "      <td>28.0000</td>\n",
              "      <td>38.0</td>\n",
              "      <td>80.0000</td>\n",
              "    </tr>\n",
              "    <tr>\n",
              "      <th>sibsp</th>\n",
              "      <td>891.0</td>\n",
              "      <td>0.523008</td>\n",
              "      <td>1.102743</td>\n",
              "      <td>0.00</td>\n",
              "      <td>0.0000</td>\n",
              "      <td>0.0000</td>\n",
              "      <td>1.0</td>\n",
              "      <td>8.0000</td>\n",
              "    </tr>\n",
              "    <tr>\n",
              "      <th>parch</th>\n",
              "      <td>891.0</td>\n",
              "      <td>0.381594</td>\n",
              "      <td>0.806057</td>\n",
              "      <td>0.00</td>\n",
              "      <td>0.0000</td>\n",
              "      <td>0.0000</td>\n",
              "      <td>0.0</td>\n",
              "      <td>6.0000</td>\n",
              "    </tr>\n",
              "    <tr>\n",
              "      <th>fare</th>\n",
              "      <td>891.0</td>\n",
              "      <td>32.204208</td>\n",
              "      <td>49.693429</td>\n",
              "      <td>0.00</td>\n",
              "      <td>7.9104</td>\n",
              "      <td>14.4542</td>\n",
              "      <td>31.0</td>\n",
              "      <td>512.3292</td>\n",
              "    </tr>\n",
              "  </tbody>\n",
              "</table>\n",
              "</div>"
            ],
            "text/plain": [
              "          count       mean        std   min      25%      50%   75%       max\n",
              "survived  891.0   0.383838   0.486592  0.00   0.0000   0.0000   1.0    1.0000\n",
              "pclass    891.0   2.308642   0.836071  1.00   2.0000   3.0000   3.0    3.0000\n",
              "age       714.0  29.699118  14.526497  0.42  20.1250  28.0000  38.0   80.0000\n",
              "sibsp     891.0   0.523008   1.102743  0.00   0.0000   0.0000   1.0    8.0000\n",
              "parch     891.0   0.381594   0.806057  0.00   0.0000   0.0000   0.0    6.0000\n",
              "fare      891.0  32.204208  49.693429  0.00   7.9104  14.4542  31.0  512.3292"
            ]
          },
          "execution_count": 9,
          "metadata": {},
          "output_type": "execute_result"
        }
      ],
      "source": [
        "# describe() to see a measure of central tendency, quantile, min dan max on each features.\n",
        "df.describe().T"
      ]
    },
    {
      "cell_type": "code",
      "execution_count": 10,
      "id": "b801e81c-ce6a-4752-ace9-4f56243841cb",
      "metadata": {
        "colab": {
          "base_uri": "https://localhost:8080/",
          "height": 266
        },
        "id": "b801e81c-ce6a-4752-ace9-4f56243841cb",
        "outputId": "06392ecb-e721-45bd-bc0d-b3eeade1b8ca"
      },
      "outputs": [
        {
          "data": {
            "text/html": [
              "<div>\n",
              "<style scoped>\n",
              "    .dataframe tbody tr th:only-of-type {\n",
              "        vertical-align: middle;\n",
              "    }\n",
              "\n",
              "    .dataframe tbody tr th {\n",
              "        vertical-align: top;\n",
              "    }\n",
              "\n",
              "    .dataframe thead th {\n",
              "        text-align: right;\n",
              "    }\n",
              "</style>\n",
              "<table border=\"1\" class=\"dataframe\">\n",
              "  <thead>\n",
              "    <tr style=\"text-align: right;\">\n",
              "      <th></th>\n",
              "      <th>count</th>\n",
              "      <th>unique</th>\n",
              "      <th>top</th>\n",
              "      <th>freq</th>\n",
              "    </tr>\n",
              "  </thead>\n",
              "  <tbody>\n",
              "    <tr>\n",
              "      <th>sex</th>\n",
              "      <td>891</td>\n",
              "      <td>2</td>\n",
              "      <td>male</td>\n",
              "      <td>577</td>\n",
              "    </tr>\n",
              "    <tr>\n",
              "      <th>embarked</th>\n",
              "      <td>889</td>\n",
              "      <td>3</td>\n",
              "      <td>S</td>\n",
              "      <td>644</td>\n",
              "    </tr>\n",
              "    <tr>\n",
              "      <th>class</th>\n",
              "      <td>891</td>\n",
              "      <td>3</td>\n",
              "      <td>Third</td>\n",
              "      <td>491</td>\n",
              "    </tr>\n",
              "    <tr>\n",
              "      <th>who</th>\n",
              "      <td>891</td>\n",
              "      <td>3</td>\n",
              "      <td>man</td>\n",
              "      <td>537</td>\n",
              "    </tr>\n",
              "    <tr>\n",
              "      <th>deck</th>\n",
              "      <td>203</td>\n",
              "      <td>7</td>\n",
              "      <td>C</td>\n",
              "      <td>59</td>\n",
              "    </tr>\n",
              "    <tr>\n",
              "      <th>embark_town</th>\n",
              "      <td>889</td>\n",
              "      <td>3</td>\n",
              "      <td>Southampton</td>\n",
              "      <td>644</td>\n",
              "    </tr>\n",
              "    <tr>\n",
              "      <th>alive</th>\n",
              "      <td>891</td>\n",
              "      <td>2</td>\n",
              "      <td>no</td>\n",
              "      <td>549</td>\n",
              "    </tr>\n",
              "  </tbody>\n",
              "</table>\n",
              "</div>"
            ],
            "text/plain": [
              "            count unique          top freq\n",
              "sex           891      2         male  577\n",
              "embarked      889      3            S  644\n",
              "class         891      3        Third  491\n",
              "who           891      3          man  537\n",
              "deck          203      7            C   59\n",
              "embark_town   889      3  Southampton  644\n",
              "alive         891      2           no  549"
            ]
          },
          "execution_count": 10,
          "metadata": {},
          "output_type": "execute_result"
        }
      ],
      "source": [
        "# Below this describe() for categorical data that show count data, unique (count of unique data), top (most frequrntly), dan freq (numbers appear).\n",
        "df.describe(include = 'object').T"
      ]
    },
    {
      "cell_type": "markdown",
      "id": "63cf8754-bc99-4792-a98d-bde17f6a087a",
      "metadata": {
        "id": "63cf8754-bc99-4792-a98d-bde17f6a087a"
      },
      "source": [
        "> From the data above, it can be seen that there are some features that have data types that are still not correct. We will fix it in preprocessing."
      ]
    },
    {
      "cell_type": "markdown",
      "id": "94cd5606-6b16-464b-a687-ec63cca0bff9",
      "metadata": {
        "id": "94cd5606-6b16-464b-a687-ec63cca0bff9"
      },
      "source": [
        "## PREPROCESSING\n",
        "> We drop data that is not important for EDA and Machine Learning processes. After that group the data by type.\n",
        "\n",
        "> We can replace null values on age column using ffill()\n",
        "\n",
        "> We can add the 'Survival_cat' column which previously had the numeric data type to object so that it can be included in the Categorical Features"
      ]
    },
    {
      "cell_type": "code",
      "execution_count": 11,
      "id": "c4f00587",
      "metadata": {},
      "outputs": [
        {
          "data": {
            "text/plain": [
              "deck           688\n",
              "age            177\n",
              "embarked         2\n",
              "embark_town      2\n",
              "survived         0\n",
              "pclass           0\n",
              "sex              0\n",
              "sibsp            0\n",
              "parch            0\n",
              "fare             0\n",
              "class            0\n",
              "who              0\n",
              "adult_male       0\n",
              "alive            0\n",
              "alone            0\n",
              "dtype: int64"
            ]
          },
          "execution_count": 11,
          "metadata": {},
          "output_type": "execute_result"
        }
      ],
      "source": [
        "df.isnull().sum().sort_values(ascending=False)"
      ]
    },
    {
      "cell_type": "markdown",
      "id": "6c7b5162",
      "metadata": {},
      "source": [
        "> In the dataset, there are several columns that have missing values, including\n",
        "> - decks : 688\n",
        "> - age : 177\n",
        "> - embarked : 2\n",
        "> - embark_town : 2\n",
        "\n",
        "> In the deck column, almost 75% of the data is lost, so the deck column will be deleted. Meanwhile, in the column age, embarked, and embark_town, data will be filled in using the ffill method"
      ]
    },
    {
      "cell_type": "code",
      "execution_count": 12,
      "id": "BIMHYC7r4J_h",
      "metadata": {
        "id": "BIMHYC7r4J_h"
      },
      "outputs": [],
      "source": [
        "df.drop(columns = ['deck','embarked','embark_town'], axis = 1, inplace = True)\n"
      ]
    },
    {
      "cell_type": "code",
      "execution_count": 13,
      "id": "bf9dd66a",
      "metadata": {},
      "outputs": [
        {
          "data": {
            "text/plain": [
              "age           177\n",
              "survived        0\n",
              "pclass          0\n",
              "sex             0\n",
              "sibsp           0\n",
              "parch           0\n",
              "fare            0\n",
              "class           0\n",
              "who             0\n",
              "adult_male      0\n",
              "alive           0\n",
              "alone           0\n",
              "dtype: int64"
            ]
          },
          "execution_count": 13,
          "metadata": {},
          "output_type": "execute_result"
        }
      ],
      "source": [
        "df.isnull().sum().sort_values(ascending=False)"
      ]
    },
    {
      "cell_type": "markdown",
      "id": "1c54936c",
      "metadata": {},
      "source": [
        "> Let's start to fill null values on \"age\" column"
      ]
    },
    {
      "cell_type": "code",
      "execution_count": 14,
      "id": "76766a8e",
      "metadata": {},
      "outputs": [],
      "source": [
        "df_age_null = df[df[\"age\"].isna()]\n",
        "df_age_notnull = df[df[\"age\"].notna()]"
      ]
    },
    {
      "cell_type": "code",
      "execution_count": 15,
      "id": "2bc36fdc",
      "metadata": {},
      "outputs": [
        {
          "data": {
            "text/html": [
              "<div>\n",
              "<style scoped>\n",
              "    .dataframe tbody tr th:only-of-type {\n",
              "        vertical-align: middle;\n",
              "    }\n",
              "\n",
              "    .dataframe tbody tr th {\n",
              "        vertical-align: top;\n",
              "    }\n",
              "\n",
              "    .dataframe thead th {\n",
              "        text-align: right;\n",
              "    }\n",
              "</style>\n",
              "<table border=\"1\" class=\"dataframe\">\n",
              "  <thead>\n",
              "    <tr style=\"text-align: right;\">\n",
              "      <th></th>\n",
              "      <th>sex</th>\n",
              "      <th>age</th>\n",
              "    </tr>\n",
              "  </thead>\n",
              "  <tbody>\n",
              "    <tr>\n",
              "      <th>0</th>\n",
              "      <td>female</td>\n",
              "      <td>27.915709</td>\n",
              "    </tr>\n",
              "    <tr>\n",
              "      <th>1</th>\n",
              "      <td>male</td>\n",
              "      <td>30.726645</td>\n",
              "    </tr>\n",
              "  </tbody>\n",
              "</table>\n",
              "</div>"
            ],
            "text/plain": [
              "      sex        age\n",
              "0  female  27.915709\n",
              "1    male  30.726645"
            ]
          },
          "execution_count": 15,
          "metadata": {},
          "output_type": "execute_result"
        }
      ],
      "source": [
        "df_age_notnull.groupby([\"sex\"], as_index=False)[\"age\"].mean()"
      ]
    },
    {
      "cell_type": "code",
      "execution_count": 16,
      "id": "cba33d38",
      "metadata": {},
      "outputs": [],
      "source": [
        "age = []\n",
        "for sex in (df_age_null[\"sex\"]):\n",
        "    if sex == \"female\":\n",
        "        age.append(28)\n",
        "    else :\n",
        "        age.append(30)"
      ]
    },
    {
      "cell_type": "markdown",
      "id": "55053a27",
      "metadata": {},
      "source": [
        "> In the code above we will enter \"age\" data based on the average age grouped by Sex"
      ]
    },
    {
      "cell_type": "code",
      "execution_count": 17,
      "id": "43e66743",
      "metadata": {},
      "outputs": [],
      "source": [
        "df_age_null[\"age\"] = age"
      ]
    },
    {
      "cell_type": "code",
      "execution_count": 18,
      "id": "cc6a78a0",
      "metadata": {},
      "outputs": [
        {
          "data": {
            "text/html": [
              "<div>\n",
              "<style scoped>\n",
              "    .dataframe tbody tr th:only-of-type {\n",
              "        vertical-align: middle;\n",
              "    }\n",
              "\n",
              "    .dataframe tbody tr th {\n",
              "        vertical-align: top;\n",
              "    }\n",
              "\n",
              "    .dataframe thead th {\n",
              "        text-align: right;\n",
              "    }\n",
              "</style>\n",
              "<table border=\"1\" class=\"dataframe\">\n",
              "  <thead>\n",
              "    <tr style=\"text-align: right;\">\n",
              "      <th></th>\n",
              "      <th>survived</th>\n",
              "      <th>pclass</th>\n",
              "      <th>sex</th>\n",
              "      <th>age</th>\n",
              "      <th>sibsp</th>\n",
              "      <th>parch</th>\n",
              "      <th>fare</th>\n",
              "      <th>class</th>\n",
              "      <th>who</th>\n",
              "      <th>adult_male</th>\n",
              "      <th>alive</th>\n",
              "      <th>alone</th>\n",
              "    </tr>\n",
              "  </thead>\n",
              "  <tbody>\n",
              "    <tr>\n",
              "      <th>0</th>\n",
              "      <td>0</td>\n",
              "      <td>3</td>\n",
              "      <td>male</td>\n",
              "      <td>22.0</td>\n",
              "      <td>1</td>\n",
              "      <td>0</td>\n",
              "      <td>7.2500</td>\n",
              "      <td>Third</td>\n",
              "      <td>man</td>\n",
              "      <td>True</td>\n",
              "      <td>no</td>\n",
              "      <td>False</td>\n",
              "    </tr>\n",
              "    <tr>\n",
              "      <th>1</th>\n",
              "      <td>1</td>\n",
              "      <td>1</td>\n",
              "      <td>female</td>\n",
              "      <td>38.0</td>\n",
              "      <td>1</td>\n",
              "      <td>0</td>\n",
              "      <td>71.2833</td>\n",
              "      <td>First</td>\n",
              "      <td>woman</td>\n",
              "      <td>False</td>\n",
              "      <td>yes</td>\n",
              "      <td>False</td>\n",
              "    </tr>\n",
              "    <tr>\n",
              "      <th>2</th>\n",
              "      <td>1</td>\n",
              "      <td>3</td>\n",
              "      <td>female</td>\n",
              "      <td>26.0</td>\n",
              "      <td>0</td>\n",
              "      <td>0</td>\n",
              "      <td>7.9250</td>\n",
              "      <td>Third</td>\n",
              "      <td>woman</td>\n",
              "      <td>False</td>\n",
              "      <td>yes</td>\n",
              "      <td>True</td>\n",
              "    </tr>\n",
              "    <tr>\n",
              "      <th>3</th>\n",
              "      <td>1</td>\n",
              "      <td>1</td>\n",
              "      <td>female</td>\n",
              "      <td>35.0</td>\n",
              "      <td>1</td>\n",
              "      <td>0</td>\n",
              "      <td>53.1000</td>\n",
              "      <td>First</td>\n",
              "      <td>woman</td>\n",
              "      <td>False</td>\n",
              "      <td>yes</td>\n",
              "      <td>False</td>\n",
              "    </tr>\n",
              "    <tr>\n",
              "      <th>4</th>\n",
              "      <td>0</td>\n",
              "      <td>3</td>\n",
              "      <td>male</td>\n",
              "      <td>35.0</td>\n",
              "      <td>0</td>\n",
              "      <td>0</td>\n",
              "      <td>8.0500</td>\n",
              "      <td>Third</td>\n",
              "      <td>man</td>\n",
              "      <td>True</td>\n",
              "      <td>no</td>\n",
              "      <td>True</td>\n",
              "    </tr>\n",
              "    <tr>\n",
              "      <th>...</th>\n",
              "      <td>...</td>\n",
              "      <td>...</td>\n",
              "      <td>...</td>\n",
              "      <td>...</td>\n",
              "      <td>...</td>\n",
              "      <td>...</td>\n",
              "      <td>...</td>\n",
              "      <td>...</td>\n",
              "      <td>...</td>\n",
              "      <td>...</td>\n",
              "      <td>...</td>\n",
              "      <td>...</td>\n",
              "    </tr>\n",
              "    <tr>\n",
              "      <th>859</th>\n",
              "      <td>0</td>\n",
              "      <td>3</td>\n",
              "      <td>male</td>\n",
              "      <td>30.0</td>\n",
              "      <td>0</td>\n",
              "      <td>0</td>\n",
              "      <td>7.2292</td>\n",
              "      <td>Third</td>\n",
              "      <td>man</td>\n",
              "      <td>True</td>\n",
              "      <td>no</td>\n",
              "      <td>True</td>\n",
              "    </tr>\n",
              "    <tr>\n",
              "      <th>863</th>\n",
              "      <td>0</td>\n",
              "      <td>3</td>\n",
              "      <td>female</td>\n",
              "      <td>28.0</td>\n",
              "      <td>8</td>\n",
              "      <td>2</td>\n",
              "      <td>69.5500</td>\n",
              "      <td>Third</td>\n",
              "      <td>woman</td>\n",
              "      <td>False</td>\n",
              "      <td>no</td>\n",
              "      <td>False</td>\n",
              "    </tr>\n",
              "    <tr>\n",
              "      <th>868</th>\n",
              "      <td>0</td>\n",
              "      <td>3</td>\n",
              "      <td>male</td>\n",
              "      <td>30.0</td>\n",
              "      <td>0</td>\n",
              "      <td>0</td>\n",
              "      <td>9.5000</td>\n",
              "      <td>Third</td>\n",
              "      <td>man</td>\n",
              "      <td>True</td>\n",
              "      <td>no</td>\n",
              "      <td>True</td>\n",
              "    </tr>\n",
              "    <tr>\n",
              "      <th>878</th>\n",
              "      <td>0</td>\n",
              "      <td>3</td>\n",
              "      <td>male</td>\n",
              "      <td>30.0</td>\n",
              "      <td>0</td>\n",
              "      <td>0</td>\n",
              "      <td>7.8958</td>\n",
              "      <td>Third</td>\n",
              "      <td>man</td>\n",
              "      <td>True</td>\n",
              "      <td>no</td>\n",
              "      <td>True</td>\n",
              "    </tr>\n",
              "    <tr>\n",
              "      <th>888</th>\n",
              "      <td>0</td>\n",
              "      <td>3</td>\n",
              "      <td>female</td>\n",
              "      <td>28.0</td>\n",
              "      <td>1</td>\n",
              "      <td>2</td>\n",
              "      <td>23.4500</td>\n",
              "      <td>Third</td>\n",
              "      <td>woman</td>\n",
              "      <td>False</td>\n",
              "      <td>no</td>\n",
              "      <td>False</td>\n",
              "    </tr>\n",
              "  </tbody>\n",
              "</table>\n",
              "<p>891 rows × 12 columns</p>\n",
              "</div>"
            ],
            "text/plain": [
              "     survived  pclass     sex   age  sibsp  parch     fare  class    who  \\\n",
              "0           0       3    male  22.0      1      0   7.2500  Third    man   \n",
              "1           1       1  female  38.0      1      0  71.2833  First  woman   \n",
              "2           1       3  female  26.0      0      0   7.9250  Third  woman   \n",
              "3           1       1  female  35.0      1      0  53.1000  First  woman   \n",
              "4           0       3    male  35.0      0      0   8.0500  Third    man   \n",
              "..        ...     ...     ...   ...    ...    ...      ...    ...    ...   \n",
              "859         0       3    male  30.0      0      0   7.2292  Third    man   \n",
              "863         0       3  female  28.0      8      2  69.5500  Third  woman   \n",
              "868         0       3    male  30.0      0      0   9.5000  Third    man   \n",
              "878         0       3    male  30.0      0      0   7.8958  Third    man   \n",
              "888         0       3  female  28.0      1      2  23.4500  Third  woman   \n",
              "\n",
              "     adult_male alive  alone  \n",
              "0          True    no  False  \n",
              "1         False   yes  False  \n",
              "2         False   yes   True  \n",
              "3         False   yes  False  \n",
              "4          True    no   True  \n",
              "..          ...   ...    ...  \n",
              "859        True    no   True  \n",
              "863       False    no  False  \n",
              "868        True    no   True  \n",
              "878        True    no   True  \n",
              "888       False    no  False  \n",
              "\n",
              "[891 rows x 12 columns]"
            ]
          },
          "execution_count": 18,
          "metadata": {},
          "output_type": "execute_result"
        }
      ],
      "source": [
        "# check null values\n",
        "df_merged = pd.concat([df_age_notnull, df_age_null])\n",
        "df_merged"
      ]
    },
    {
      "cell_type": "markdown",
      "id": "e5801c89",
      "metadata": {},
      "source": [
        "> So there is no null values on \"age\" column"
      ]
    },
    {
      "cell_type": "code",
      "execution_count": 19,
      "id": "a3493048-9ce8-4b14-8029-4baad59adc78",
      "metadata": {
        "colab": {
          "base_uri": "https://localhost:8080/",
          "height": 142
        },
        "id": "a3493048-9ce8-4b14-8029-4baad59adc78",
        "outputId": "963e322e-524f-4bbd-9e6e-1aa5fea04bab"
      },
      "outputs": [],
      "source": [
        "# turn df_merged into df\n",
        "df = df_merged"
      ]
    },
    {
      "cell_type": "markdown",
      "id": "81c9df3e",
      "metadata": {},
      "source": [
        "> Now, we will replace some values ​​in Numeric datatype and Object datatype"
      ]
    },
    {
      "cell_type": "code",
      "execution_count": 20,
      "id": "dd73b265-5108-43e6-a674-2492129a1f8a",
      "metadata": {
        "id": "dd73b265-5108-43e6-a674-2492129a1f8a"
      },
      "outputs": [],
      "source": [
        "#replace datatype survived\n",
        "df['survived_cat'] = df[\"survived\"].replace({\n",
        "    1:\"Alive\",\n",
        "    0:\"Death\"\n",
        "})"
      ]
    },
    {
      "cell_type": "code",
      "execution_count": 21,
      "id": "f2a970d1",
      "metadata": {},
      "outputs": [],
      "source": [
        "#replace datatype survived\n",
        "df['pclass'] = df[\"pclass\"].replace({\n",
        "    1:\"1st\",\n",
        "    2:\"2nd\",\n",
        "    3:\"3rd\"\n",
        "})"
      ]
    },
    {
      "cell_type": "markdown",
      "id": "778425cd",
      "metadata": {},
      "source": [
        "> Let's look the data"
      ]
    },
    {
      "cell_type": "code",
      "execution_count": 22,
      "id": "74a3058d",
      "metadata": {},
      "outputs": [
        {
          "data": {
            "text/html": [
              "<div>\n",
              "<style scoped>\n",
              "    .dataframe tbody tr th:only-of-type {\n",
              "        vertical-align: middle;\n",
              "    }\n",
              "\n",
              "    .dataframe tbody tr th {\n",
              "        vertical-align: top;\n",
              "    }\n",
              "\n",
              "    .dataframe thead th {\n",
              "        text-align: right;\n",
              "    }\n",
              "</style>\n",
              "<table border=\"1\" class=\"dataframe\">\n",
              "  <thead>\n",
              "    <tr style=\"text-align: right;\">\n",
              "      <th></th>\n",
              "      <th>Features</th>\n",
              "      <th>dataType</th>\n",
              "      <th>nullvalues</th>\n",
              "      <th>unique</th>\n",
              "      <th>uniqueSample</th>\n",
              "    </tr>\n",
              "  </thead>\n",
              "  <tbody>\n",
              "    <tr>\n",
              "      <th>0</th>\n",
              "      <td>survived</td>\n",
              "      <td>int64</td>\n",
              "      <td>0</td>\n",
              "      <td>2</td>\n",
              "      <td>[1]</td>\n",
              "    </tr>\n",
              "    <tr>\n",
              "      <th>1</th>\n",
              "      <td>pclass</td>\n",
              "      <td>object</td>\n",
              "      <td>0</td>\n",
              "      <td>3</td>\n",
              "      <td>[3rd]</td>\n",
              "    </tr>\n",
              "    <tr>\n",
              "      <th>2</th>\n",
              "      <td>sex</td>\n",
              "      <td>object</td>\n",
              "      <td>0</td>\n",
              "      <td>2</td>\n",
              "      <td>[female]</td>\n",
              "    </tr>\n",
              "    <tr>\n",
              "      <th>3</th>\n",
              "      <td>age</td>\n",
              "      <td>float64</td>\n",
              "      <td>0</td>\n",
              "      <td>88</td>\n",
              "      <td>[14.0]</td>\n",
              "    </tr>\n",
              "    <tr>\n",
              "      <th>4</th>\n",
              "      <td>sibsp</td>\n",
              "      <td>int64</td>\n",
              "      <td>0</td>\n",
              "      <td>7</td>\n",
              "      <td>[8]</td>\n",
              "    </tr>\n",
              "    <tr>\n",
              "      <th>5</th>\n",
              "      <td>parch</td>\n",
              "      <td>int64</td>\n",
              "      <td>0</td>\n",
              "      <td>7</td>\n",
              "      <td>[2]</td>\n",
              "    </tr>\n",
              "    <tr>\n",
              "      <th>6</th>\n",
              "      <td>fare</td>\n",
              "      <td>float64</td>\n",
              "      <td>0</td>\n",
              "      <td>248</td>\n",
              "      <td>[52.5542]</td>\n",
              "    </tr>\n",
              "    <tr>\n",
              "      <th>7</th>\n",
              "      <td>class</td>\n",
              "      <td>object</td>\n",
              "      <td>0</td>\n",
              "      <td>3</td>\n",
              "      <td>[Second]</td>\n",
              "    </tr>\n",
              "    <tr>\n",
              "      <th>8</th>\n",
              "      <td>who</td>\n",
              "      <td>object</td>\n",
              "      <td>0</td>\n",
              "      <td>3</td>\n",
              "      <td>[child]</td>\n",
              "    </tr>\n",
              "    <tr>\n",
              "      <th>9</th>\n",
              "      <td>adult_male</td>\n",
              "      <td>bool</td>\n",
              "      <td>0</td>\n",
              "      <td>2</td>\n",
              "      <td>[False]</td>\n",
              "    </tr>\n",
              "    <tr>\n",
              "      <th>10</th>\n",
              "      <td>alive</td>\n",
              "      <td>object</td>\n",
              "      <td>0</td>\n",
              "      <td>2</td>\n",
              "      <td>[no]</td>\n",
              "    </tr>\n",
              "    <tr>\n",
              "      <th>11</th>\n",
              "      <td>alone</td>\n",
              "      <td>bool</td>\n",
              "      <td>0</td>\n",
              "      <td>2</td>\n",
              "      <td>[True]</td>\n",
              "    </tr>\n",
              "    <tr>\n",
              "      <th>12</th>\n",
              "      <td>survived_cat</td>\n",
              "      <td>object</td>\n",
              "      <td>0</td>\n",
              "      <td>2</td>\n",
              "      <td>[Death]</td>\n",
              "    </tr>\n",
              "  </tbody>\n",
              "</table>\n",
              "</div>"
            ],
            "text/plain": [
              "        Features dataType  nullvalues  unique uniqueSample\n",
              "0       survived    int64           0       2          [1]\n",
              "1         pclass   object           0       3        [3rd]\n",
              "2            sex   object           0       2     [female]\n",
              "3            age  float64           0      88       [14.0]\n",
              "4          sibsp    int64           0       7          [8]\n",
              "5          parch    int64           0       7          [2]\n",
              "6           fare  float64           0     248    [52.5542]\n",
              "7          class   object           0       3     [Second]\n",
              "8            who   object           0       3      [child]\n",
              "9     adult_male     bool           0       2      [False]\n",
              "10         alive   object           0       2         [no]\n",
              "11         alone     bool           0       2       [True]\n",
              "12  survived_cat   object           0       2      [Death]"
            ]
          },
          "execution_count": 22,
          "metadata": {},
          "output_type": "execute_result"
        }
      ],
      "source": [
        "# summary dari setiap features pada dataset ini\n",
        "pd.DataFrame({'Features' : df.columns, 'dataType' : df.dtypes.values, \n",
        "              'nullvalues' : [df[i].isna().sum() for i in df.columns],\n",
        "              'unique' : [df[i].nunique() for i in df.columns],\n",
        "              'uniqueSample' : [list(pd.Series(df[i].unique()).sample(1)) for i in df.columns]}).reset_index(drop = True)"
      ]
    },
    {
      "cell_type": "markdown",
      "id": "b726fa2e",
      "metadata": {},
      "source": [
        "> all columns have the appropriate data type"
      ]
    },
    {
      "cell_type": "markdown",
      "id": "WxyGw3U7zpfe",
      "metadata": {
        "id": "WxyGw3U7zpfe"
      },
      "source": [
        "## EXPLORATORY DATA ANALYSIS"
      ]
    },
    {
      "cell_type": "markdown",
      "id": "0745af10",
      "metadata": {},
      "source": [
        "> so, let's start analyze"
      ]
    },
    {
      "cell_type": "markdown",
      "id": "768331c5",
      "metadata": {},
      "source": [
        "### TARGET FEATURE"
      ]
    },
    {
      "cell_type": "code",
      "execution_count": 23,
      "id": "0a8e87f8",
      "metadata": {},
      "outputs": [
        {
          "data": {
            "image/png": "[encoded data removed]",
            "text/plain": [
              "<Figure size 504x504 with 1 Axes>"
            ]
          },
          "metadata": {},
          "output_type": "display_data"
        }
      ],
      "source": [
        "plt.figure(figsize = (7,7))\n",
        "plt.title('Target', size = 15, fontweight = 'bold')\n",
        "labels = 'Death', 'Alive'\n",
        "plt.pie(df['survived_cat'].value_counts(), autopct = '%.2f%%', \n",
        "        textprops = {'fontsize' : 15, 'color' : 'white'}, explode = (0.05,0))\n",
        "plt.legend(labels, loc='lower right', fontsize = 13)\n",
        "plt.show()"
      ]
    },
    {
      "cell_type": "code",
      "execution_count": 24,
      "id": "c661fc7e",
      "metadata": {},
      "outputs": [
        {
          "data": {
            "text/plain": [
              "Death    549\n",
              "Alive    342\n",
              "Name: survived_cat, dtype: int64"
            ]
          },
          "execution_count": 24,
          "metadata": {},
          "output_type": "execute_result"
        }
      ],
      "source": [
        "df['survived_cat'].value_counts()"
      ]
    },
    {
      "cell_type": "markdown",
      "id": "3af72a57",
      "metadata": {},
      "source": [
        "> Seen in the pie chart above, as many as 61.62% (549) of passengers died and passengers who were alive were 38.38% (342) of the total data."
      ]
    },
    {
      "cell_type": "markdown",
      "id": "0548de25",
      "metadata": {},
      "source": [
        "### NUMERICAL FEATURES"
      ]
    },
    {
      "cell_type": "markdown",
      "id": "71f490c7",
      "metadata": {},
      "source": [
        "> First we can make a heatmap first to see the correlation on each feature"
      ]
    },
    {
      "cell_type": "code",
      "execution_count": 25,
      "id": "c75aaab5",
      "metadata": {},
      "outputs": [
        {
          "data": {
            "text/plain": [
              "<AxesSubplot:>"
            ]
          },
          "execution_count": 25,
          "metadata": {},
          "output_type": "execute_result"
        },
        {
          "data": {
            "image/png": "[encoded data removed]",
            "text/plain": [
              "<Figure size 864x432 with 2 Axes>"
            ]
          },
          "metadata": {},
          "output_type": "display_data"
        }
      ],
      "source": [
        "plt.figure(figsize = (12,6))\n",
        "sns.heatmap(df.select_dtypes(['int64', 'float64']).corr('spearman'), annot = True)"
      ]
    },
    {
      "cell_type": "markdown",
      "id": "37cd1466",
      "metadata": {},
      "source": [
        "> From the heat map above we can see that the highest correlation is in \"parch\" with \"sibsp\" and \"fare\" with \"sibsp\". After chose the column that has a correlation, now we make a joinplot to see the existing pattern."
      ]
    },
    {
      "cell_type": "code",
      "execution_count": 26,
      "id": "7909aa45",
      "metadata": {},
      "outputs": [
        {
          "data": {
            "text/plain": [
              "<seaborn.axisgrid.JointGrid at 0x204640892b0>"
            ]
          },
          "execution_count": 26,
          "metadata": {},
          "output_type": "execute_result"
        },
        {
          "data": {
            "image/png": "[encoded data removed]",
            "text/plain": [
              "<Figure size 432x432 with 3 Axes>"
            ]
          },
          "metadata": {},
          "output_type": "display_data"
        }
      ],
      "source": [
        "sns.jointplot(x=df['parch'], y=df['sibsp'], data=df, hue='survived_cat')"
      ]
    },
    {
      "cell_type": "markdown",
      "id": "33e93404",
      "metadata": {},
      "source": [
        "> From the above joinplot, it can be seen that the number of passengers who have \"parch\" and \"sibsp\" is > 3"
      ]
    },
    {
      "cell_type": "code",
      "execution_count": 27,
      "id": "cabce83a",
      "metadata": {},
      "outputs": [
        {
          "data": {
            "text/plain": [
              "<seaborn.axisgrid.JointGrid at 0x2046419a070>"
            ]
          },
          "execution_count": 27,
          "metadata": {},
          "output_type": "execute_result"
        },
        {
          "data": {
            "image/png": "[encoded data removed]",
            "text/plain": [
              "<Figure size 432x432 with 3 Axes>"
            ]
          },
          "metadata": {},
          "output_type": "display_data"
        }
      ],
      "source": [
        "sns.jointplot(x=df['fare'], y=df['sibsp'], data=df, hue='survived_cat')"
      ]
    },
    {
      "cell_type": "markdown",
      "id": "8d5d0243",
      "metadata": {},
      "source": [
        "> From the pairplot above, we don't find any pattern on the passengers because the data are **pile in the same area**.\n",
        "\n",
        "> For that, we will analyze for each numerical feature"
      ]
    },
    {
      "cell_type": "markdown",
      "id": "519be16d",
      "metadata": {},
      "source": [
        "> We can create functions to simplify data visualization"
      ]
    },
    {
      "cell_type": "code",
      "execution_count": 28,
      "id": "8afb4fd0",
      "metadata": {},
      "outputs": [],
      "source": [
        "def plot_num(segment_by,target_var = \"survived_cat\"):\n",
        "    survived_y = df[(df['survived_cat'] == 'Alive')][segment_by]\n",
        "    survived_n = df[(df['survived_cat'] == 'Death')][segment_by]\n",
        "\n",
        "    plt.figure(figsize=(10,5))  \n",
        "    plt.title(\"Distribution of Survived Passenger by \"+segment_by)\n",
        "    plt.ylabel(\"Frequency\")\n",
        "    \n",
        "    ax = sns.kdeplot(survived_y,shade=True,color='#008000')\n",
        "    ax = sns.kdeplot(survived_n,shade=True,color='#ff0000')\n",
        "    ax.legend(['Alive','Death'])\n",
        "\n",
        "    plt.show()\n",
        "\n",
        "    print(\"Alive by \",segment_by)\n",
        "    print(survived_y.value_counts().head(3))\n",
        "    print('-----------------------------')\n",
        "    print(\"Death by \",segment_by)\n",
        "    print(survived_n.value_counts().head(3))"
      ]
    },
    {
      "cell_type": "code",
      "execution_count": 29,
      "id": "b30a438b",
      "metadata": {},
      "outputs": [
        {
          "name": "stdout",
          "output_type": "stream",
          "text": [
            "<class 'pandas.core.frame.DataFrame'>\n",
            "Int64Index: 891 entries, 0 to 888\n",
            "Data columns (total 13 columns):\n",
            " #   Column        Non-Null Count  Dtype  \n",
            "---  ------        --------------  -----  \n",
            " 0   survived      891 non-null    int64  \n",
            " 1   pclass        891 non-null    object \n",
            " 2   sex           891 non-null    object \n",
            " 3   age           891 non-null    float64\n",
            " 4   sibsp         891 non-null    int64  \n",
            " 5   parch         891 non-null    int64  \n",
            " 6   fare          891 non-null    float64\n",
            " 7   class         891 non-null    object \n",
            " 8   who           891 non-null    object \n",
            " 9   adult_male    891 non-null    bool   \n",
            " 10  alive         891 non-null    object \n",
            " 11  alone         891 non-null    bool   \n",
            " 12  survived_cat  891 non-null    object \n",
            "dtypes: bool(2), float64(2), int64(3), object(6)\n",
            "memory usage: 117.6+ KB\n"
          ]
        }
      ],
      "source": [
        "df.info()"
      ]
    },
    {
      "cell_type": "code",
      "execution_count": 30,
      "id": "3b7efc75",
      "metadata": {},
      "outputs": [
        {
          "data": {
            "image/png": "[encoded data removed]",
            "text/plain": [
              "<Figure size 720x360 with 1 Axes>"
            ]
          },
          "metadata": {},
          "output_type": "display_data"
        },
        {
          "name": "stdout",
          "output_type": "stream",
          "text": [
            "Alive by  age\n",
            "28.0    43\n",
            "30.0    26\n",
            "24.0    15\n",
            "Name: age, dtype: int64\n",
            "-----------------------------\n",
            "Death by  age\n",
            "30.0    123\n",
            "28.0     35\n",
            "21.0     19\n",
            "Name: age, dtype: int64\n"
          ]
        }
      ],
      "source": [
        "plot_num(segment_by='age')"
      ]
    },
    {
      "cell_type": "markdown",
      "id": "641e00a5",
      "metadata": {},
      "source": [
        "> Passengers aged < 20 (children to teenagers) are passengers whose safety is prioritized over adults aged between 20-40 years. Likewise, passengers aged > 40 years who managed to survive. Rescue priority is given to children, youth, and seniors. However, we can see some seniors aged > 60 years do not survive. This can happen due to the physical condition of the elderly passengers who do not have the ability to save themselves."
      ]
    },
    {
      "cell_type": "code",
      "execution_count": 31,
      "id": "e84f5114",
      "metadata": {},
      "outputs": [
        {
          "data": {
            "image/png": "[encoded data removed]",
            "text/plain": [
              "<Figure size 720x360 with 1 Axes>"
            ]
          },
          "metadata": {},
          "output_type": "display_data"
        },
        {
          "name": "stdout",
          "output_type": "stream",
          "text": [
            "Alive by  fare\n",
            "13.00    16\n",
            "26.00    15\n",
            "7.75     12\n",
            "Name: fare, dtype: int64\n",
            "-----------------------------\n",
            "Death by  fare\n",
            "8.0500     38\n",
            "7.8958     37\n",
            "13.0000    26\n",
            "Name: fare, dtype: int64\n"
          ]
        }
      ],
      "source": [
        "plot_num(segment_by='fare')"
      ]
    },
    {
      "cell_type": "markdown",
      "id": "b1c3943e",
      "metadata": {},
      "source": [
        "> Passengers with fares > $13 are more likely to survive than those with fares < $13"
      ]
    },
    {
      "cell_type": "code",
      "execution_count": 32,
      "id": "275f7d85",
      "metadata": {},
      "outputs": [
        {
          "data": {
            "image/png": "[encoded data removed]",
            "text/plain": [
              "<Figure size 720x360 with 1 Axes>"
            ]
          },
          "metadata": {},
          "output_type": "display_data"
        },
        {
          "name": "stdout",
          "output_type": "stream",
          "text": [
            "Alive by  parch\n",
            "0    233\n",
            "1     65\n",
            "2     40\n",
            "Name: parch, dtype: int64\n",
            "-----------------------------\n",
            "Death by  parch\n",
            "0    445\n",
            "1     53\n",
            "2     40\n",
            "Name: parch, dtype: int64\n"
          ]
        }
      ],
      "source": [
        "plot_num(segment_by='parch')"
      ]
    },
    {
      "cell_type": "code",
      "execution_count": 33,
      "id": "1062bef8",
      "metadata": {},
      "outputs": [
        {
          "data": {
            "image/png": "[encoded data removed]",
            "text/plain": [
              "<Figure size 720x360 with 1 Axes>"
            ]
          },
          "metadata": {},
          "output_type": "display_data"
        },
        {
          "name": "stdout",
          "output_type": "stream",
          "text": [
            "Alive by  sibsp\n",
            "0    210\n",
            "1    112\n",
            "2     13\n",
            "Name: sibsp, dtype: int64\n",
            "-----------------------------\n",
            "Death by  sibsp\n",
            "0    398\n",
            "1     97\n",
            "4     15\n",
            "Name: sibsp, dtype: int64\n"
          ]
        }
      ],
      "source": [
        "plot_num(segment_by='sibsp')"
      ]
    },
    {
      "cell_type": "markdown",
      "id": "59e2bdfe",
      "metadata": {},
      "source": [
        "### CATEGORICAL FEATURES"
      ]
    },
    {
      "cell_type": "markdown",
      "id": "496acd22",
      "metadata": {},
      "source": [
        "> Same as numerical features, we will create a heatmap to find correlations."
      ]
    },
    {
      "cell_type": "code",
      "execution_count": 34,
      "id": "cc6aed7b",
      "metadata": {},
      "outputs": [],
      "source": [
        "# cramers untuk categorical feature correlation\n",
        "def cramersv(x, y):\n",
        "    confusion_matrix = pd.crosstab(x,y)\n",
        "    chi2 = stats.chi2_contingency(confusion_matrix)[0]\n",
        "    n = confusion_matrix.sum().sum()\n",
        "    phi2 = chi2/n\n",
        "    r, k = confusion_matrix.shape\n",
        "    phi2corr = max(0, phi2-((k-1)*(r-1))/(n-1))\n",
        "    rcorr = r - ((r-1)**2)/(n-1)\n",
        "    kcorr = k - ((k-1)**2)/(n-1)\n",
        "    return np.sqrt(phi2corr/min((kcorr-1), (rcorr-1)))"
      ]
    },
    {
      "cell_type": "code",
      "execution_count": 35,
      "id": "6e29324a",
      "metadata": {},
      "outputs": [],
      "source": [
        "corr = []\n",
        "for i in df.select_dtypes(['object']):\n",
        "    matrix = []\n",
        "    for j in df.select_dtypes(['object']):\n",
        "        matrix.append(cramersv(df.select_dtypes(['object'])[i], df.select_dtypes(['object'])[j]))\n",
        "    corr.append(matrix)\n",
        "\n",
        "corr_cat = pd.DataFrame(corr, index = df.select_dtypes(['object']).columns, columns = df.select_dtypes(['object']).columns)"
      ]
    },
    {
      "cell_type": "code",
      "execution_count": 36,
      "id": "42c2ef01",
      "metadata": {},
      "outputs": [
        {
          "data": {
            "text/plain": [
              "<AxesSubplot:>"
            ]
          },
          "execution_count": 36,
          "metadata": {},
          "output_type": "execute_result"
        },
        {
          "data": {
            "image/png": "[encoded data removed]",
            "text/plain": [
              "<Figure size 720x360 with 2 Axes>"
            ]
          },
          "metadata": {},
          "output_type": "display_data"
        }
      ],
      "source": [
        "plt.figure(figsize=(10, 5))\n",
        "sns.heatmap(corr_cat, annot=True)"
      ]
    },
    {
      "cell_type": "markdown",
      "id": "6e08e8ad",
      "metadata": {},
      "source": [
        "> In the heatmap above we can see that there is a strong correlation between \"class\" and \"pclass\" and \"survived_cat\" and \"alive\". However, the two correlations are columns with the same value, therefore we will look for patterns in the correlation between \"who\" and \"sex\" which reaches 0.95."
      ]
    },
    {
      "cell_type": "code",
      "execution_count": 37,
      "id": "cb81ad31",
      "metadata": {},
      "outputs": [
        {
          "data": {
            "text/html": [
              "<div>\n",
              "<style scoped>\n",
              "    .dataframe tbody tr th:only-of-type {\n",
              "        vertical-align: middle;\n",
              "    }\n",
              "\n",
              "    .dataframe tbody tr th {\n",
              "        vertical-align: top;\n",
              "    }\n",
              "\n",
              "    .dataframe thead th {\n",
              "        text-align: right;\n",
              "    }\n",
              "</style>\n",
              "<table border=\"1\" class=\"dataframe\">\n",
              "  <thead>\n",
              "    <tr style=\"text-align: right;\">\n",
              "      <th>sex</th>\n",
              "      <th>female</th>\n",
              "      <th>male</th>\n",
              "    </tr>\n",
              "    <tr>\n",
              "      <th>who</th>\n",
              "      <th></th>\n",
              "      <th></th>\n",
              "    </tr>\n",
              "  </thead>\n",
              "  <tbody>\n",
              "    <tr>\n",
              "      <th>child</th>\n",
              "      <td>0.136943</td>\n",
              "      <td>0.069324</td>\n",
              "    </tr>\n",
              "    <tr>\n",
              "      <th>man</th>\n",
              "      <td>0.000000</td>\n",
              "      <td>0.930676</td>\n",
              "    </tr>\n",
              "    <tr>\n",
              "      <th>woman</th>\n",
              "      <td>0.863057</td>\n",
              "      <td>0.000000</td>\n",
              "    </tr>\n",
              "  </tbody>\n",
              "</table>\n",
              "</div>"
            ],
            "text/plain": [
              "sex      female      male\n",
              "who                      \n",
              "child  0.136943  0.069324\n",
              "man    0.000000  0.930676\n",
              "woman  0.863057  0.000000"
            ]
          },
          "execution_count": 37,
          "metadata": {},
          "output_type": "execute_result"
        }
      ],
      "source": [
        "pd.crosstab(df['who'], df['sex'], normalize = 'columns')"
      ]
    },
    {
      "cell_type": "markdown",
      "id": "4561fac6",
      "metadata": {},
      "source": [
        "> For man and woman have data with the same value. However, when compared to children, most passengers are adults than children.\n",
        "\n",
        "> We will analyze some of the Categorical Features. For that, we will create a function to make it easier to visualize the data."
      ]
    },
    {
      "cell_type": "code",
      "execution_count": 38,
      "id": "bc91b2df",
      "metadata": {},
      "outputs": [],
      "source": [
        "def cat_plot(segment_by,target_var =\"survived_cat\"):\n",
        "    survived_y = df[(df['survived_cat'] == 'Alive')][segment_by]\n",
        "    survived_n = df[(df['survived_cat'] == 'Death')][segment_by]\n",
        "\n",
        "    plt.figure(figsize=(10,5))\n",
        "    sns.countplot(x =segment_by,data=df.select_dtypes(['object']),hue=target_var)\n",
        "    plt.xticks(rotation=45)\n",
        "    plt.title(\"Count of \"+segment_by)\n",
        "    plt.show()\n",
        "    \n",
        "    print(\"Alive by \",segment_by)\n",
        "    print(survived_y.value_counts().head(3))\n",
        "    print('-----------------------------')\n",
        "    print(\"Death by \",segment_by)\n",
        "    print(survived_n.value_counts().head(3))"
      ]
    },
    {
      "cell_type": "code",
      "execution_count": 39,
      "id": "f4625a60",
      "metadata": {},
      "outputs": [
        {
          "data": {
            "image/png": "[encoded data removed]",
            "text/plain": [
              "<Figure size 720x360 with 1 Axes>"
            ]
          },
          "metadata": {},
          "output_type": "display_data"
        },
        {
          "name": "stdout",
          "output_type": "stream",
          "text": [
            "Alive by  sex\n",
            "female    233\n",
            "male      109\n",
            "Name: sex, dtype: int64\n",
            "-----------------------------\n",
            "Death by  sex\n",
            "male      468\n",
            "female     81\n",
            "Name: sex, dtype: int64\n"
          ]
        }
      ],
      "source": [
        "cat_plot(segment_by='sex')"
      ]
    },
    {
      "cell_type": "markdown",
      "id": "68c6ddf9",
      "metadata": {},
      "source": [
        "> It can be seen in the countplot above that the surviving passengers are dominated by female compared to male. This could be based on a rescue procedure that prioritizes women over men."
      ]
    },
    {
      "cell_type": "code",
      "execution_count": 40,
      "id": "19ce4eb2",
      "metadata": {},
      "outputs": [
        {
          "data": {
            "image/png": "[encoded data removed]",
            "text/plain": [
              "<Figure size 720x360 with 1 Axes>"
            ]
          },
          "metadata": {},
          "output_type": "display_data"
        },
        {
          "name": "stdout",
          "output_type": "stream",
          "text": [
            "Alive by  class\n",
            "First     136\n",
            "Third     119\n",
            "Second     87\n",
            "Name: class, dtype: int64\n",
            "-----------------------------\n",
            "Death by  class\n",
            "Third     372\n",
            "Second     97\n",
            "First      80\n",
            "Name: class, dtype: int64\n"
          ]
        }
      ],
      "source": [
        "cat_plot(segment_by='class')"
      ]
    },
    {
      "cell_type": "markdown",
      "id": "e83b62fa",
      "metadata": {},
      "source": [
        "> First class passengers had 136 safe passengers. Meanwhile, the passengers who experienced many deaths were in the third class. This can happen if the rescue procedure is carried out by prioritizing passengers who are in first class."
      ]
    },
    {
      "cell_type": "code",
      "execution_count": 41,
      "id": "aa99b72e",
      "metadata": {},
      "outputs": [
        {
          "data": {
            "image/png": "[encoded data removed]",
            "text/plain": [
              "<Figure size 720x360 with 1 Axes>"
            ]
          },
          "metadata": {},
          "output_type": "display_data"
        },
        {
          "name": "stdout",
          "output_type": "stream",
          "text": [
            "Alive by  who\n",
            "woman    205\n",
            "man       88\n",
            "child     49\n",
            "Name: who, dtype: int64\n",
            "-----------------------------\n",
            "Death by  who\n",
            "man      449\n",
            "woman     66\n",
            "child     34\n",
            "Name: who, dtype: int64\n"
          ]
        }
      ],
      "source": [
        "cat_plot(segment_by='who')"
      ]
    },
    {
      "cell_type": "markdown",
      "id": "5852c9ed",
      "metadata": {},
      "source": [
        "> Passengers who survived were dominated by women. But Passengers who died were dominated by man. Survived by \"who\" may have a relationship with \"sex\" which prioritizes women."
      ]
    },
    {
      "cell_type": "markdown",
      "id": "16043f13",
      "metadata": {},
      "source": [
        "## SUMMARY"
      ]
    },
    {
      "cell_type": "markdown",
      "id": "8010ad55",
      "metadata": {},
      "source": [
        "By analyzing the Titanic dataset, we can answer the questions that were created earlier.\n",
        "> How many passengers are still alive?\n",
        "- based on the pie chart, there are 342 passengers who survived\n",
        "> What gender is the most victimized?\n",
        "- The most victimized gender is male\n",
        "> What age has survived the most?\n",
        "- Most of the passengers who survived were in the age range < 20 years and some were seniors with the age of 40-60 years\n",
        "> Is the passenger class aware of safety?\n",
        "- Yes, surviving passengers are generally in first class. The higher the class you have, the greater the chance of survival."
      ]
    }
  ],
  "metadata": {
    "colab": {
      "provenance": []
    },
    "kernelspec": {
      "display_name": "Python 3.9.12 ('base')",
      "language": "python",
      "name": "python3"
    },
    "language_info": {
      "codemirror_mode": {
        "name": "ipython",
        "version": 3
      },
      "file_extension": ".py",
      "mimetype": "text/x-python",
      "name": "python",
      "nbconvert_exporter": "python",
      "pygments_lexer": "ipython3",
      "version": "3.9.12"
    },
    "vscode": {
      "interpreter": {
        "hash": "acd7da78c62dba4006ec5b78c525e9586061c13b5b0c403f449a69ff28dd52ce"
      }
    }
  },
  "nbformat": 4,
  "nbformat_minor": 5
}
